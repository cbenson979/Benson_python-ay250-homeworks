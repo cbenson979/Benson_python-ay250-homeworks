{
 "cells": [
  {
   "cell_type": "markdown",
   "metadata": {},
   "source": [
    "# Interaction with the World Homework (#3)\n",
    "Python Computing for Data Science (c) J Bloom, UC Berkeley 2018\n",
    "\n",
    "Due Tuesday 2pm, Feb 20, 2018"
   ]
  },
  {
   "cell_type": "markdown",
   "metadata": {},
   "source": [
    "# 1) Monty: The Python Siri\n",
    "\n",
    "Let's make a Siri-like program (call it Monty!) with the following properties:\n",
    "   - record your voice command\n",
    "   - use a webservice to parse that sound file into text\n",
    "   - based on what the text, take three different types of actions:\n",
    "       - send an email to yourself\n",
    "       - do some math\n",
    "       - tell a joke\n",
    "\n",
    "So for example, if you say \"Monty: email me with subject hello and body goodbye\", it will email you with the appropriate subject and body. If you say \"Monty: tell me a joke\" then it will go to the web and find a joke and print it for you. If you say, \"Monty: calculate two times three\" it should response with printing the number 6.\n",
    "\n",
    "Hint: you can use speed-to-text apps like Houndify (or, e.g., Google Speech https://cloud.google.com/speech/) to return the text (but not do the actions). You'll need to sign up for a free API and then follow documentation instructions for using the service within Python. "
   ]
  },
  {
   "cell_type": "code",
   "execution_count": 78,
   "metadata": {
    "collapsed": true
   },
   "outputs": [],
   "source": [
    "import pyaudio\n",
    "import google\n",
    "import wave\n",
    "import io\n",
    "import os\n",
    "import json\n",
    "import requests\n",
    "import ast\n",
    "import smtplib \n",
    "\n",
    "# Imports the Google Cloud client library\n",
    "from google.cloud import speech\n",
    "from google.cloud.speech import enums\n",
    "from google.cloud.speech import types\n",
    "\n"
   ]
  },
  {
   "cell_type": "code",
   "execution_count": 81,
   "metadata": {
    "collapsed": true,
    "scrolled": false
   },
   "outputs": [],
   "source": [
    "def recordASegment():\n",
    "    # config the recording\n",
    "    chunk = 1024\n",
    "    FORMAT = pyaudio.paInt16\n",
    "    CHANNELS = 1\n",
    "    RATE = 44100\n",
    "    RECORD_SECONDS = 5\n",
    "    WAVE_OUTPUT_FILENAME = \"audioFileOut.wav\"\n",
    "    p = pyaudio.PyAudio()\n",
    "    stream = p.open(format = FORMAT,\n",
    "        channels = CHANNELS,\n",
    "        rate = RATE,\n",
    "        input = True,\n",
    "        frames_per_buffer = chunk)\n",
    "    all = []\n",
    "    for i in range(0, int(RATE / chunk * RECORD_SECONDS)):\n",
    "        data = stream.read(chunk)\n",
    "        all.append(data)\n",
    "    print(\"* done recording\")\n",
    "    stream.close()\n",
    "    p.terminate()\n",
    "    \n",
    "    # write the file\n",
    "    data = b\"\".join(all)\n",
    "    wf = wave.open(WAVE_OUTPUT_FILENAME, \"wb\")\n",
    "    wf.setnchannels(CHANNELS)\n",
    "    wf.setsampwidth(p.get_sample_size(FORMAT))\n",
    "    wf.setframerate(RATE)\n",
    "    wf.writeframes(data)\n",
    "    wf.close()\n",
    "\n",
    "    ## Code to create the google transcript\n",
    "    os.environ['GOOGLE_APPLICATION_CREDENTIALS'] = '/Users/chrisbenson/Documents/Graduate_School/S2018/python-ay250-homeworks/hw_3/googleKey.json'\n",
    "\n",
    "    #print(os.environ)\n",
    "    # Instantiates a client\n",
    "    client = speech.SpeechClient()\n",
    "\n",
    "    file_name = './audioFileOut.wav'\n",
    "\n",
    "    # Loads the audio into memory\n",
    "    with io.open(file_name, 'rb') as audio_file:\n",
    "        content = audio_file.read()\n",
    "        audio = types.RecognitionAudio(content=content)\n",
    "\n",
    "    config = types.RecognitionConfig(\n",
    "        encoding=enums.RecognitionConfig.AudioEncoding.LINEAR16,\n",
    "        sample_rate_hertz=44100,\n",
    "        language_code='en-US')\n",
    "\n",
    "    # Detects speech in the audio file\n",
    "    response = client.recognize(config, audio)\n",
    "    \n",
    "    for result in response.results:\n",
    "        print('Transcript: {}'.format(result.alternatives[0].transcript))\n",
    "    return response\n",
    "\n",
    "def sendEmail(contentsDict):\n",
    "    mail = smtplib.SMTP('smtp.gmail.com',587)\n",
    "    mail.ehlo()\n",
    "    mail.starttls()\n",
    "    # load the address and password in from an external json file.\n",
    "    emailCreds = json.load(open('./emailCreds.json','r'))\n",
    "    mail.login(emailCreds['add'],emailCreds['pass'])\n",
    "    # Construct message string\n",
    "    messageText = 'From: minicleanalerts@gmail.com\\r\\n'\n",
    "    messageText += 'Subject: '+str(contentsDict['subject']+'\\r\\n')\n",
    "    messageText += '\\r\\n\\r\\n'+str(contentsDict['body'])\n",
    "    # send mail\n",
    "    mail.sendmail('minicleanalerts@gmail.com',['cbensondev@gmail.com'],messageText)\n",
    "    mail.close()\n",
    "    \n",
    "def parseMessage(parsedResults):\n",
    "    ### Dump the transcript results from google cloud into a string\n",
    "    for result in parsedResults.results:\n",
    "        inputtedResponse = '{}'.format(result.alternatives[0].transcript)\n",
    "    #### email condition\n",
    "    emailCmd = False; jokeCmd = False; mathCmd = False\n",
    "    if 'email' in inputtedResponse:\n",
    "        emailCmd = True\n",
    "    if 'joke' in inputtedResponse:\n",
    "        jokeCmd = True\n",
    "    for mathKey in [' + ',' - ',' * ',' / ']:\n",
    "        if mathKey in inputtedResponse:\n",
    "            mathCmd = True\n",
    "            mathSymbol = mathKey.replace(' ','')\n",
    "        \n",
    "    if jokeCmd:\n",
    "        randomJokeDict = requests.get(\"http://api.icndb.com/jokes/random\")\n",
    "        jokeResult = ast.literal_eval(randomJokeDict.text)\n",
    "        jokeText = jokeResult['value']['joke']\n",
    "        jokeText = jokeText.replace('&quot;','\"')\n",
    "    \n",
    "    if emailCmd:\n",
    "        contentDict = {}\n",
    "        if jokeCmd == False:\n",
    "            emailParse = (inputtedResponse[:].replace('subject','\\t')).replace('and body','\\t')\n",
    "            emailParse = emailParse.split('\\t')\n",
    "            contentDict['subject'] = emailParse[1]\n",
    "            contentDict['body'] = emailParse[2]\n",
    "            sendEmail(contentDict)\n",
    "        elif jokeCmd == True and ' a ' in inputtedResponse:\n",
    "            contentDict['subject'] = 'joke'\n",
    "            contentDict['body'] = jokeText\n",
    "            sendEmail(contentDict)\n",
    "        print('Email Sent!')\n",
    "    else:\n",
    "        # Just print the result\n",
    "        if jokeCmd:\n",
    "            print(jokeText)\n",
    "        elif mathCmd:\n",
    "            # split the text string by spaces\n",
    "            splitStr = inputtedResponse.split(' ')\n",
    "            operationIndex = splitStr.index(mathSymbol)\n",
    "            if mathSymbol == '+':\n",
    "                print(splitStr[operationIndex-1]+' + '+splitStr[operationIndex+1]+' = '+str(float(splitStr[operationIndex-1])+float(splitStr[operationIndex+1])))\n",
    "            elif mathSymbol == '-':\n",
    "                print(splitStr[operationIndex-1]+' - '+splitStr[operationIndex+1]+' = '+str(float(splitStr[operationIndex-1])-float(splitStr[operationIndex+1])))\n",
    "            elif mathSymbol == '*':\n",
    "                print(splitStr[operationIndex-1]+' * '+splitStr[operationIndex+1]+' = '+str(float(splitStr[operationIndex-1])*float(splitStr[operationIndex+1])))\n",
    "            elif mathSymbol == '/':\n",
    "                print(splitStr[operationIndex-1]+' / '+splitStr[operationIndex+1]+' = '+str(float(splitStr[operationIndex-1])/float(splitStr[operationIndex+1])))\n",
    "                \n",
    "        else:\n",
    "            print(\"WHAT DO YOU WANT WITH ME! I DON'T UNDERSTAND!!!\")\n",
    "    \n",
    "def runMonte():\n",
    "    # Run the recording\n",
    "    result = recordASegment()\n",
    "    # parse the message and execute the proper action\n",
    "    parseMessage(result)"
   ]
  },
  {
   "cell_type": "code",
   "execution_count": 75,
   "metadata": {},
   "outputs": [
    {
     "name": "stdout",
     "output_type": "stream",
     "text": [
      "* done recording\n",
      "Transcript: tell me a joke\n",
      "He who lives by the sword, dies by the sword. He who lives by Chuck Norris, dies by the roundhouse kick.\n"
     ]
    }
   ],
   "source": [
    "runMonte()"
   ]
  },
  {
   "cell_type": "code",
   "execution_count": 76,
   "metadata": {
    "scrolled": false
   },
   "outputs": [
    {
     "name": "stdout",
     "output_type": "stream",
     "text": [
      "* done recording\n",
      "Transcript: what is 15 * 30\n",
      "15 * 30 = 450.0\n"
     ]
    }
   ],
   "source": [
    "runMonte()"
   ]
  },
  {
   "cell_type": "code",
   "execution_count": 83,
   "metadata": {},
   "outputs": [
    {
     "name": "stdout",
     "output_type": "stream",
     "text": [
      "* done recording\n",
      "Transcript: email me with subject hello and body world\n",
      "Email Sent!\n"
     ]
    }
   ],
   "source": [
    "runMonte()"
   ]
  },
  {
   "cell_type": "code",
   "execution_count": 84,
   "metadata": {},
   "outputs": [
    {
     "name": "stdout",
     "output_type": "stream",
     "text": [
      "* done recording\n",
      "Transcript: email me a joke\n",
      "Email Sent!\n"
     ]
    }
   ],
   "source": [
    "runMonte()"
   ]
  },
  {
   "cell_type": "markdown",
   "metadata": {},
   "source": [
    "# 2) Write a program that identifies musical notes from sound (AIFF) files. \n",
    "\n",
    "  - Run it on the supplied sound files (12) and report your program’s results. \n",
    "  - Use the labeled sounds (4) to make sure it works correctly. The provided sound files contain 1-3 simultaneous notes from different organs.\n",
    "  - Save copies of any example plots to illustrate how your program works.\n",
    "  \n",
    "  https://piazza.com/berkeley/spring2018/ay250class13410/resources -> Homeworks -> hw3_sound_files.zip"
   ]
  },
  {
   "cell_type": "markdown",
   "metadata": {},
   "source": [
    "Hints: You’ll want to decompose the sound into a frequency power spectrum. Use a Fast Fourier Transform. Be care about “unpacking” the string hexcode into python data structures. The sound files use 32 bit data. Play around with what happens when you convert the string data to other integer sizes, or signed vs unsigned integers. Also, beware of harmonics."
   ]
  },
  {
   "cell_type": "code",
   "execution_count": 36,
   "metadata": {
    "collapsed": true
   },
   "outputs": [],
   "source": [
    "import pyaudio\n",
    "import soundfile as sf\n",
    "import wave\n",
    "import io\n",
    "import aifc\n",
    "import matplotlib.pyplot as plt\n",
    "import numpy as np\n",
    "from scipy.fftpack import fft, rfft"
   ]
  },
  {
   "cell_type": "code",
   "execution_count": 69,
   "metadata": {
    "collapsed": true
   },
   "outputs": [],
   "source": [
    "def specgram_cbar(x, title=None, clim=(0, 80) ):\n",
    "    # from hw 1\n",
    "    \"\"\"Plot spectrogram with a colorbar and range normalization.\n",
    "    \n",
    "    Call matplotlib's specgram function, with a custom figure size, \n",
    "    automatic colobar, title and custom color limits to ease \n",
    "    comparison across multiple figures.\n",
    "    \n",
    "    Parameters\n",
    "    ==========\n",
    "    x : array\n",
    "      One-dimensional array whose spectrogram should be plotted.\n",
    "      \n",
    "    title : string\n",
    "      Optional title for the figure.\n",
    "      \n",
    "    clim : 2-tuple\n",
    "      Range for the color limits plotted in the spectrogram.\n",
    "    \"\"\"\n",
    "    f = plt.figure(figsize=(10,3))\n",
    "    plt.specgram(x, Fs=2)\n",
    "    plt.colorbar()\n",
    "    plt.clim(*clim)\n",
    "    if title is not None:\n",
    "        plt.title(title)\n",
    "    plt.show()\n",
    "    \n",
    "def recordANote(fileName):\n",
    "    # config the recording\n",
    "    chunk = 1024\n",
    "    FORMAT = pyaudio.paInt16\n",
    "    CHANNELS = 1\n",
    "    RATE = 44100\n",
    "    RECORD_SECONDS = 5\n",
    "    WAVE_OUTPUT_FILENAME = './'+str(fileName)+\".wav\"\n",
    "    p = pyaudio.PyAudio()\n",
    "    stream = p.open(format = FORMAT,\n",
    "        channels = CHANNELS,\n",
    "        rate = RATE,\n",
    "        input = True,\n",
    "        frames_per_buffer = chunk)\n",
    "    all = []\n",
    "    for i in range(0, int(RATE / chunk * RECORD_SECONDS)):\n",
    "        data = stream.read(chunk)\n",
    "        all.append(data)\n",
    "    print(\"* done recording\")\n",
    "    stream.close()\n",
    "    p.terminate()\n",
    "    \n",
    "    # write the file\n",
    "    data = b\"\".join(all)\n",
    "    wf = wave.open(WAVE_OUTPUT_FILENAME, \"wb\")\n",
    "    wf.setnchannels(CHANNELS)\n",
    "    wf.setsampwidth(p.get_sample_size(FORMAT))\n",
    "    wf.setframerate(RATE)\n",
    "    wf.writeframes(data)\n",
    "    wf.close()\n",
    "    \n",
    "def plotAifFile(fileName):\n",
    "    #wf = aifc.open(fileName, 'rb')\n",
    "    #rate = wf.getframerate()\n",
    "    #print(rate)\n",
    "    \n",
    "    #data = wf.readframes(wf.getnframes())\n",
    "    #sig = np.frombuffer(data, dtype='<i2').reshape(-1, wf.getnchannels())\n",
    "\n",
    "    #sig = sig[:,1]\n",
    "    data, samplerate = sf.read(fileName)\n",
    "    print(type(data))\n",
    "    print(data,samplerate)\n",
    "    \n",
    "    data = data[:,0]\n",
    "\n",
    "    fft = np.fft.rfft(data)\n",
    "\n",
    "    k = np.arange(len(fft))\n",
    "    T = len(fft)/samplerate  # where fs is the sampling frequency\n",
    "    frqLabel = k/T \n",
    "    \n",
    "    fig2,ax2 = plt.subplots()\n",
    "    ax2.plot(frqLabel,fft)\n",
    "    plt.show()\n",
    "    return data\n",
    "    \n"
   ]
  },
  {
   "cell_type": "code",
   "execution_count": 70,
   "metadata": {},
   "outputs": [
    {
     "name": "stdout",
     "output_type": "stream",
     "text": [
      "<class 'numpy.ndarray'>\n",
      "[[ -3.05175781e-05   0.00000000e+00]\n",
      " [ -3.05175781e-05   0.00000000e+00]\n",
      " [  3.05175781e-05   0.00000000e+00]\n",
      " ..., \n",
      " [  0.00000000e+00   0.00000000e+00]\n",
      " [  0.00000000e+00   0.00000000e+00]\n",
      " [  0.00000000e+00   0.00000000e+00]] 44100\n"
     ]
    },
    {
     "name": "stderr",
     "output_type": "stream",
     "text": [
      "/Users/chrisbenson/anaconda3/lib/python3.6/site-packages/numpy/core/numeric.py:531: ComplexWarning: Casting complex values to real discards the imaginary part\n",
      "  return array(a, dtype, copy=False, order=order)\n"
     ]
    },
    {
     "data": {
      "image/png": "[encoded data removed]",
      "text/plain": [
       "<matplotlib.figure.Figure at 0x1130e7f28>"
      ]
     },
     "metadata": {},
     "output_type": "display_data"
    }
   ],
   "source": [
    "data = plotAifFile('./homework4_data/1.aif')"
   ]
  },
  {
   "cell_type": "code",
   "execution_count": 47,
   "metadata": {},
   "outputs": [
    {
     "data": {
      "text/plain": [
       "array([ -3.05175781e-05,  -3.05175781e-05,   3.05175781e-05, ...,\n",
       "         0.00000000e+00,   0.00000000e+00,   0.00000000e+00])"
      ]
     },
     "execution_count": 47,
     "metadata": {},
     "output_type": "execute_result"
    }
   ],
   "source": [
    "data[:,0]"
   ]
  },
  {
   "cell_type": "code",
   "execution_count": null,
   "metadata": {
    "collapsed": true
   },
   "outputs": [],
   "source": []
  }
 ],
 "metadata": {
  "kernelspec": {
   "display_name": "Python 3",
   "language": "python",
   "name": "python3"
  },
  "language_info": {
   "codemirror_mode": {
    "name": "ipython",
    "version": 3
   },
   "file_extension": ".py",
   "mimetype": "text/x-python",
   "name": "python",
   "nbconvert_exporter": "python",
   "pygments_lexer": "ipython3",
   "version": "3.6.3"
  }
 },
 "nbformat": 4,
 "nbformat_minor": 1
}
