{
 "cells": [
  {
   "cell_type": "markdown",
   "metadata": {},
   "source": [
    "## Homeworok 4 solution\n",
    "\n",
    "Christopher Benson; \n",
    "March 5th, 2018\n"
   ]
  },
  {
   "cell_type": "code",
   "execution_count": 1,
   "metadata": {
    "collapsed": true
   },
   "outputs": [],
   "source": [
    "# import some modules we will be needing\n",
    "from random import uniform\n",
    "from math import sqrt\n",
    "from time import time\n",
    "from numpy import logspace"
   ]
  },
  {
   "cell_type": "markdown",
   "metadata": {},
   "source": [
    "## Series Solution\n",
    "\n",
    "Below is the series approach with no parallelization"
   ]
  },
  {
   "cell_type": "code",
   "execution_count": 2,
   "metadata": {
    "collapsed": true
   },
   "outputs": [],
   "source": [
    "# create log spaced np array for the number of darts we will be throwing per trial.\n",
    "dartVector = logspace(1,7,7)"
   ]
  },
  {
   "cell_type": "code",
   "execution_count": 12,
   "metadata": {},
   "outputs": [
    {
     "name": "stdout",
     "output_type": "stream",
     "text": [
      "\n",
      "Pi Approx: 3.2\n",
      "numDarts: 10.0\n",
      "execution Time [s]: 2.193450927734375e-05\n",
      "darts/sec: 455902.608696\n",
      "\n",
      "Pi Approx: 3.12\n",
      "numDarts: 100.0\n",
      "execution Time [s]: 0.0002129077911376953\n",
      "darts/sec: 469686.898096\n",
      "\n",
      "Pi Approx: 3.12\n",
      "numDarts: 1000.0\n",
      "execution Time [s]: 0.0010879039764404297\n",
      "darts/sec: 919198.772737\n",
      "\n",
      "Pi Approx: 3.1376\n",
      "numDarts: 10000.0\n",
      "execution Time [s]: 0.014018774032592773\n",
      "darts/sec: 713329.138251\n",
      "\n",
      "Pi Approx: 3.13756\n",
      "numDarts: 100000.0\n",
      "execution Time [s]: 0.1144869327545166\n",
      "darts/sec: 873462.128769\n",
      "\n",
      "Pi Approx: 3.138816\n",
      "numDarts: 1000000.0\n",
      "execution Time [s]: 1.032317876815796\n",
      "darts/sec: 968693.870811\n",
      "\n",
      "Pi Approx: 3.1414028\n",
      "numDarts: 10000000.0\n",
      "execution Time [s]: 10.816574335098267\n",
      "darts/sec: 924507.12122\n"
     ]
    }
   ],
   "source": [
    "timeResults = []\n",
    "simulationRate = []\n",
    "\n",
    "# create a regular for loop \n",
    "for numDarts in dartVector:\n",
    "\tstart_time = time()\n",
    "\tnumDartsInCircle = 0\n",
    "    # begin throwning numDarts, one at a time\n",
    "\tfor n in range(int(numDarts)):\n",
    "\t\tx,y = uniform(0,1), uniform(0,1)\n",
    "\t\tif sqrt((x-0.5)**2 + (y-0.5)**2) <= 0.5:\n",
    "\t\t\tnumDartsInCircle += 1\n",
    "\tend_time = time()\n",
    "\texecutionTime = end_time - start_time\n",
    "\n",
    "\tpiApprox = 4*float(numDartsInCircle)/float(numDarts)\n",
    "\ttimeResults.append(executionTime)\n",
    "\tsimulationRate.append(numDarts/float(executionTime))\n",
    "\n",
    "\tprint(\"\\nPi Approx: \"+str(piApprox))\n",
    "\tprint(\"numDarts: \"+str(numDarts))\n",
    "\tprint(\"execution Time [s]: \"+str(executionTime))\n",
    "\tprint(\"darts/sec: \"+str(numDarts/executionTime))\n"
   ]
  },
  {
   "cell_type": "markdown",
   "metadata": {},
   "source": [
    "## Parallelization using threading\n",
    "\n",
    "Below is the series approach with multithreading. I choose to consider a solution with 10 threads"
   ]
  },
  {
   "cell_type": "code",
   "execution_count": 4,
   "metadata": {
    "collapsed": true
   },
   "outputs": [],
   "source": [
    "import threading\n",
    "from queue import Queue"
   ]
  },
  {
   "cell_type": "code",
   "execution_count": 14,
   "metadata": {},
   "outputs": [
    {
     "name": "stdout",
     "output_type": "stream",
     "text": [
      "\n",
      "numDarts: 10.0\n",
      "execution Time [s]: 0.0018591880798339844\n",
      "darts/sec: 5378.6919723\n",
      "\n",
      "numDarts: 100.0\n",
      "execution Time [s]: 0.0016179084777832031\n",
      "darts/sec: 61808.1933392\n",
      "\n",
      "numDarts: 1000.0\n",
      "execution Time [s]: 0.001886129379272461\n",
      "darts/sec: 530186.322842\n",
      "\n",
      "numDarts: 10000.0\n",
      "execution Time [s]: 0.011441230773925781\n",
      "darts/sec: 874031.841294\n",
      "\n",
      "numDarts: 100000.0\n",
      "execution Time [s]: 0.10472512245178223\n",
      "darts/sec: 954880.71686\n",
      "\n",
      "numDarts: 1000000.0\n",
      "execution Time [s]: 1.0616822242736816\n",
      "darts/sec: 941901.425056\n",
      "\n",
      "numDarts: 10000000.0\n",
      "execution Time [s]: 10.477110147476196\n",
      "darts/sec: 954461.665406\n"
     ]
    }
   ],
   "source": [
    "q = Queue()\n",
    "\n",
    "def runDartSim(numDarts):\n",
    "\tnumDartsInCircle = 0\n",
    "\tfor n in range(int(numDarts)):\n",
    "\t\tx,y = uniform(0,1), uniform(0,1)\n",
    "\t\tif sqrt((x-0.5)**2 + (y-0.5)**2) <= 0.5:\n",
    "\t\t\tnumDartsInCircle += 1\n",
    "\n",
    "\tpiApprox = 4*float(numDartsInCircle)/float(numDarts)\n",
    "\t\n",
    "\tif q.empty():\n",
    "\t\tq.put(numDartsInCircle)\n",
    "\telse:\n",
    "\t\tvar = q.get()\n",
    "\t\tq.put(var+numDartsInCircle)\n",
    "\t\t\n",
    "\treturn \n",
    "\t\n",
    "\t\n",
    "nThreads = 10\n",
    "timeResultsThread = []\n",
    "dartsPerSecThread = []\n",
    "for numDarts in dartVector:\n",
    "\tdartsPerThread = numDarts/nThreads\n",
    "\tq = Queue() # reinit q\n",
    "\t\n",
    "\tstart_time = time()\n",
    "\tthreads = []\n",
    "    # distribute 1/10 of darts to each thread and run simulation\n",
    "\tfor i in range(nThreads):\n",
    "\t\tt = threading.Thread(target=runDartSim, args=(dartsPerThread,))\n",
    "\t\tthreads.append(t)\n",
    "\t\tt.start()\n",
    "\t# wait for all threads to finish\n",
    "\tfor t in threads:\n",
    "\t\tt.join()\n",
    "\t# compute total run time and store in list\n",
    "\tend_time = time()\n",
    "\texecutionTime = end_time - start_time\n",
    "\ttimeResultsThread.append(executionTime)\n",
    "\tdartsPerSecThread.append(numDarts/executionTime)\n",
    "\n",
    "\tprint(\"\\nnumDarts: \"+str(numDarts))\n",
    "\tprint(\"execution Time [s]: \"+str(executionTime))\n",
    "\tprint(\"darts/sec: \"+str(numDarts/executionTime))\n",
    "    "
   ]
  },
  {
   "cell_type": "markdown",
   "metadata": {},
   "source": [
    "## Parallelization using `ipyparallel`\n",
    "\n",
    "Below is the series approach with ipyparallel. \n",
    "\n",
    "NEED TO HAVE LOCAL CLUSTER RUNNING!"
   ]
  },
  {
   "cell_type": "code",
   "execution_count": 8,
   "metadata": {
    "collapsed": true
   },
   "outputs": [],
   "source": [
    "import ipyparallel as ipp\n",
    "import os\n",
    "import math\n",
    "import random\n",
    "# Be sure to start local cluster by using 'ipcluster start' on command line"
   ]
  },
  {
   "cell_type": "code",
   "execution_count": 19,
   "metadata": {},
   "outputs": [
    {
     "name": "stdout",
     "output_type": "stream",
     "text": [
      "\n",
      "numDarts: 10.0\n",
      "execution Time [s]: 2.09808349609375e-05\n",
      "darts/sec: 476625.454545\n",
      "\n",
      "numDarts: 100.0\n",
      "execution Time [s]: 0.00010704994201660156\n",
      "darts/sec: 934143.429844\n",
      "\n",
      "numDarts: 1000.0\n",
      "execution Time [s]: 0.0009441375732421875\n",
      "darts/sec: 1059167.67677\n",
      "\n",
      "numDarts: 10000.0\n",
      "execution Time [s]: 0.010447978973388672\n",
      "darts/sec: 957122.906303\n",
      "\n",
      "numDarts: 100000.0\n",
      "execution Time [s]: 0.10728907585144043\n",
      "darts/sec: 932061.341813\n",
      "\n",
      "numDarts: 1000000.0\n",
      "execution Time [s]: 1.0512080192565918\n",
      "darts/sec: 951286.502463\n",
      "\n",
      "numDarts: 10000000.0\n",
      "execution Time [s]: 10.062742948532104\n",
      "darts/sec: 993764.826464\n"
     ]
    }
   ],
   "source": [
    "# create the client object for interations with parallelization manager.\n",
    "rc = ipp.Client()\n",
    "ar = rc[:].apply_async(os.getpid)\n",
    "\n",
    "lv = rc.load_balanced_view()\n",
    "\n",
    "dv = rc[:]\n",
    "\n",
    "@ipp.require('random','math')\n",
    "def runDartSim(numDarts):\n",
    "\tnumDartsInCircle = 0\n",
    "\tfor i in range(int(numDarts)):\n",
    "\t\tx,y = random.uniform(0,1), random.uniform(0,1)\n",
    "# \t\trad = math.sqrt(x**2 + y**2)\n",
    "\t\tif math.sqrt(x**2 + y**2)<= 0.5:\n",
    "\t\t\tnumDartsInCircle += 1\n",
    "\treturn numDartsInCircle\n",
    "\n",
    "timeResultsPar = []\n",
    "dartsPerSecPar = []\n",
    "for numDarts in dartVector:\t\n",
    "    start_time = time()\n",
    "    result = runDartSim(numDarts) # run the parallelized for loop\n",
    "    end_time = time()\n",
    "    executionTime = end_time - start_time\n",
    "    \n",
    "    timeResultsPar.append(executionTime)\n",
    "    dartsPerSecPar.append(numDarts/executionTime)\n",
    "    \n",
    "    print(\"\\nnumDarts: \"+str(numDarts))\n",
    "    print(\"execution Time [s]: \"+str(executionTime))\n",
    "    print(\"darts/sec: \"+str(numDarts/executionTime))\n",
    "    "
   ]
  },
  {
   "cell_type": "markdown",
   "metadata": {},
   "source": [
    "## Create final plot\n",
    "\n",
    "left hand side axis contains total execution time, right hand side axis contains simulation rate."
   ]
  },
  {
   "cell_type": "code",
   "execution_count": 21,
   "metadata": {},
   "outputs": [
    {
     "data": {
      "text/plain": [
       "<matplotlib.legend.Legend at 0x10b510780>"
      ]
     },
     "execution_count": 21,
     "metadata": {},
     "output_type": "execute_result"
    }
   ],
   "source": [
    "import matplotlib.pyplot as plt\n",
    "\n",
    "fig,ax = plt.subplots()\n",
    "ax.plot(dartVector,timeResults,label='Simple',color='r') ### series case\n",
    "ax.plot(dartVector,timeResultsThread,label='Multiprocessing',color='c') ### multithread case\n",
    "ax.plot(dartVector,timeResultsPar,label='IPcluster',color='g')\n",
    "\n",
    "ax.set_xscale('log')\n",
    "ax.set_yscale('log')\n",
    "ax.set_xlabel('Darts Thrown')\n",
    "ax.set_ylabel('Execution Time (seconds), solid line')\n",
    "\n",
    "ax2 = ax.twinx()\n",
    "ax2.plot(dartVector,simulationRate,'r--')\n",
    "ax2.plot(dartVector,dartsPerSecThread,'c--')\n",
    "ax2.plot(dartVector,dartsPerSecPar,'g--')\n",
    "ax2.set_yscale('log')\n",
    "ax2.set_ylabel('Simulation Rate (darts/second), dashed line')\n",
    "\n",
    "ax.legend(loc=0)\n",
    "\n"
   ]
  },
  {
   "cell_type": "code",
   "execution_count": 22,
   "metadata": {},
   "outputs": [
    {
     "data": {
      "image/png": "[encoded data removed]",
      "text/plain": [
       "<matplotlib.figure.Figure at 0x10b18deb8>"
      ]
     },
     "metadata": {},
     "output_type": "display_data"
    },
    {
     "data": {
      "image/png": "[encoded data removed]",
      "text/plain": [
       "<matplotlib.figure.Figure at 0x10b0d0ef0>"
      ]
     },
     "metadata": {},
     "output_type": "display_data"
    }
   ],
   "source": [
    "plt.show()"
   ]
  },
  {
   "cell_type": "code",
   "execution_count": null,
   "metadata": {
    "collapsed": true
   },
   "outputs": [],
   "source": []
  }
 ],
 "metadata": {
  "kernelspec": {
   "display_name": "Python 3",
   "language": "python",
   "name": "python3"
  },
  "language_info": {
   "codemirror_mode": {
    "name": "ipython",
    "version": 3
   },
   "file_extension": ".py",
   "mimetype": "text/x-python",
   "name": "python",
   "nbconvert_exporter": "python",
   "pygments_lexer": "ipython3",
   "version": "3.6.3"
  }
 },
 "nbformat": 4,
 "nbformat_minor": 2
}
