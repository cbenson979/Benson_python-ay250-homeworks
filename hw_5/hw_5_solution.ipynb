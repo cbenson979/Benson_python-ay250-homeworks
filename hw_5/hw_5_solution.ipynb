{
 "cells": [
  {
   "cell_type": "markdown",
   "metadata": {},
   "source": [
    "# Homework 5 - Chris Benson\n",
    "## Weather Predition\n",
    "March 12, 2018"
   ]
  },
  {
   "cell_type": "markdown",
   "metadata": {},
   "source": [
    "-------------\n",
    "### Part 1: Load and parse the airport list\n",
    "Load the data set of airports into pandas dataframe"
   ]
  },
  {
   "cell_type": "code",
   "execution_count": 1,
   "metadata": {},
   "outputs": [],
   "source": [
    "import pandas as pd\n",
    "import numpy as np\n",
    "import matplotlib.pyplot as plt\n",
    "from bs4 import BeautifulSoup\n",
    "import requests\n",
    "import datetime\n",
    "import collections\n",
    "from threading import Thread\n",
    "import time\n",
    "import json\n",
    "from pandas.io import sql\n",
    "import sqlite3\n",
    "\n",
    "%matplotlib inline"
   ]
  },
  {
   "cell_type": "code",
   "execution_count": 2,
   "metadata": {},
   "outputs": [],
   "source": [
    "## Load the full data set of US airport information. Use the ICAO code as the index\n",
    "fullAirportDataSet = pd.read_csv('./ICAO_airports.csv',index_col=1)\n",
    "## Load the csv of the top 50 airports. Use the ICAO code as the index\n",
    "top50AirportDataSet = pd.read_csv('./top_airports.csv',index_col=3)"
   ]
  },
  {
   "cell_type": "code",
   "execution_count": 3,
   "metadata": {},
   "outputs": [],
   "source": [
    "### create a database to dump these results to\n",
    "connection = sqlite3.connect(\"./airportData.sql\")\n",
    "cursor = connection.cursor()\n",
    "\n",
    "## dump airport info and top 50 airports to an sql database\n",
    "fullAirportDataSet.to_sql('airportData',connection,if_exists='replace')\n",
    "top50AirportDataSet.to_sql('topFiftyAirports',connection,if_exists='replace')\n",
    "connection.close()\n"
   ]
  },
  {
   "cell_type": "code",
   "execution_count": 4,
   "metadata": {},
   "outputs": [],
   "source": [
    "# Test reading the airport information tables we created.\n",
    "connection = sqlite3.connect(\"./airportData.sql\")\n",
    "cursor = connection.cursor()\n",
    "\n",
    "testAirportExtraction = pd.read_sql_query(\"select * from airportData;\", connection)\n",
    "testTop50Airports = pd.read_sql_query(\"select * from topFiftyAirports;\", connection)\n",
    "\n",
    "connection.close()"
   ]
  },
  {
   "cell_type": "markdown",
   "metadata": {},
   "source": [
    "## Weather scrapeing functions and execution\n",
    "\n",
    "`ScrapeAirportWeatherData` scrapes weather data for an airport (airportCode) over the course of 1 calendar year (inputYear).\n",
    "\n",
    "`scrapeSeveralYearsOfWeatherData` scrapes and concatenates weather data over several calendar years.\n",
    "\n",
    "Loops defined after the functions execute the scraping and write to file. \n",
    "The second loop can load previously scraped data from disk so that we don't have to scrape again if we restart the program"
   ]
  },
  {
   "cell_type": "code",
   "execution_count": 5,
   "metadata": {},
   "outputs": [],
   "source": [
    "# construct the webscraper\n",
    "# the URL will be of the form: \n",
    "# https://www.wunderground.com/history/airport/KGEG/2015/3/12/CustomHistory.html?dayend=11&monthend=3&yearend=2016&req_city=&req_state=&req_statename=&reqdb.zip=&reqdb.magic=&reqdb.wmo=\n",
    "\n",
    "def ScrapeAirportWeatherData(airportCode,inputYear):\n",
    "    '''\n",
    "    Function will scrape 1 year of historical weather data from www.wunderground.com at airports.\n",
    "    I've had trouble getting more than 1 year at a time reliably. Recommend scraping no more than 1 year at a time.\n",
    "    \n",
    "    Input: string airport code (string), startData (datetime object), endDate (datetime object)\n",
    "    Output: pandas data frame with historical weather information\n",
    "    '''\n",
    "    startDate = datetime.date(inputYear,1,1)\n",
    "    endDate = datetime.date(inputYear,12,31)\n",
    "    \n",
    "    tempURL = 'https://www.wunderground.com/history/airport/'+str(airportCode)+'/'+str(startDate.year)+'/'+str(startDate.month)+'/'+str(startDate.day)+'/CustomHistory.html?dayend='\n",
    "    tempURL += str(endDate.day)+'&monthend='+str(endDate.month)+'&yearend='+str(endDate.year)+'&req_city=&req_state=&req_statename=&reqdb.zip=&reqdb.magic=&reqdb.wmo='\n",
    "    page = requests.get(tempURL)\n",
    "    soup = BeautifulSoup(page.text, 'lxml')\n",
    "    table = (soup.find_all('table'))[1] # we know that the second table on this page contains the data we want to scrape\n",
    "    \n",
    "    # Get the table\n",
    "    table = (soup.find_all('table'))[1]\n",
    "    # pull out the table headers\n",
    "    tableHeaders = table.find_all('th')[1:9]\n",
    "\n",
    "    subCategories = ['high','avg','low']\n",
    "    dataDict = collections.OrderedDict()\n",
    "    # dataDict['Date'] = []\n",
    "    dateVect = []\n",
    "    for aHeader in tableHeaders:\n",
    "        if aHeader.text == 'Precip. (in)':\n",
    "            dataDict[aHeader.text+' sum'] = []\n",
    "            continue\n",
    "        elif aHeader.text == 'Events':\n",
    "            dataDict[aHeader.text] = []\n",
    "            continue\n",
    "        for aSub in subCategories:\n",
    "            dataDict[aHeader.text+' '+aSub] = []\n",
    "\n",
    "    ### grab all of the data in the table\n",
    "    data = table.find_all('tbody')\n",
    "    dictKeys = list(dataDict.keys())\n",
    "    # Loop over all of the 'rows' in the table\n",
    "    for aRow in data:\n",
    "        # determine if we should skip the row by checking if it has an href in the first element or not\n",
    "        if aRow.find_all('td')[0].find('a') == None: # skip condition\n",
    "            continue\n",
    "        cols = aRow.find_all('td')\n",
    "        for index,aCol in enumerate(cols):\n",
    "            # get the date of this data row from the href element \n",
    "            dictIndex = index-1\n",
    "            if index == 0:\n",
    "                dateStr = aCol.find('a').attrs['href'].split('/')[4:7]\n",
    "                tempDate = datetime.date(int(dateStr[0]),int(dateStr[1]),int(dateStr[2]))\n",
    "                dateVect.append(tempDate)\n",
    "            else:\n",
    "                # we know that these rows have lots of strings, so exculde them from trying to add as a float\n",
    "                if dictKeys[dictIndex] not in ['Precip. (in) sum','Events']: \n",
    "                    tempVal = aCol.text\n",
    "                    tempVal = tempVal.replace('\\n','')\n",
    "                    tempVal = tempVal.replace(' ','')\n",
    "                    if tempVal == '-': # if it is a '-', append as an nan\n",
    "                        tempVal = np.nan\n",
    "                    dataDict[dictKeys[dictIndex]].append(float(tempVal)) # cast as float and add to the dict data\n",
    "                else:\n",
    "                    tempVal = aCol.text\n",
    "                    tempVal = tempVal.replace('\\n','')\n",
    "                    dataDict[dictKeys[dictIndex]].append(tempVal)\n",
    "    DataOut = pd.DataFrame(dataDict,index=dateVect) # dump the data to a pandas data frame and return\n",
    "    return DataOut\n",
    "\n",
    "def scrapeSeveralYearsOfWeatherData(airportCode,startYear,endYear,writeToDisk=True,databaseConnection=None):\n",
    "    '''\n",
    "    Scrapes the weather data over several years using multiple calls of ScrapeAirportWeatherData. \n",
    "    Will scrape and concatenate the DataFrames for the entire calander years from startYear to endYear.\n",
    "    If writeToDisk == True, write scraped results to file so that the results can be loaded later.\n",
    "    '''\n",
    "    # pull down all of the weather data over year range\n",
    "    dataObjs = []\n",
    "    for aYear in range(startYear,endYear+1):\n",
    "        dataObjs.append(ScrapeAirportWeatherData(airportCode,aYear))\n",
    "    # merge the data together into a single data frame\n",
    "    masterDF = pd.concat(dataObjs)\n",
    "    if writeToDisk:\n",
    "        masterDF.to_sql(str(airportCode),connection,if_exists='replace') # set the table name as the airport code\n",
    "#         masterDF.to_csv('./histData/'+airportCode+'.csv')\n",
    "    return masterDF\n"
   ]
  },
  {
   "cell_type": "code",
   "execution_count": null,
   "metadata": {
    "scrolled": true
   },
   "outputs": [],
   "source": [
    "### scrape the data for each airport in the top 50 and store in database\n",
    "connection = sqlite3.connect(\"./weatherData.sql\")\n",
    "cursor = connection.cursor()\n",
    "\n",
    "totalSet = []\n",
    "for aName in list(top50AirportDataSet.index.values):\n",
    "    print(aName)\n",
    "    histDataSet = scrapeSeveralYearsOfWeatherData(aName,2008,2018,True)\n",
    "    totalSet.append({'name':aName,'data':histDataSet})\n",
    "\n",
    "connection.close() # close database connection"
   ]
  },
  {
   "cell_type": "code",
   "execution_count": 18,
   "metadata": {},
   "outputs": [],
   "source": [
    "### An alternative load method to read previously scraped data from disk (b/c it takes a while to scrape all of the data)\n",
    "connection = sqlite3.connect(\"./weatherData.sql\")\n",
    "cursor = connection.cursor()\n",
    "\n",
    "totalSet = []\n",
    "date_parser = pd.core.tools.datetimes.to_datetime\n",
    "for aName in list(top50AirportDataSet.index.values):\n",
    "#     histDataSet = pd.read_csv('./histData/'+str(aName)+'.csv',index_col=0) # csv dump/load option\n",
    "    histDataSet = pd.read_sql_query(\"select * from \"+str(aName)+\";\", connection,index_col='index') # load the result into memory\n",
    "    histDataSet.index = pd.to_datetime(histDataSet.index)\n",
    "    totalSet.append({'name':aName,'data':histDataSet})\n",
    "    \n",
    "connection.close()\n"
   ]
  },
  {
   "cell_type": "markdown",
   "metadata": {},
   "source": [
    "## Evaluate correlations\n",
    "Now that the data has been scraped (or loaded from disk), compute the correlations between various offsets in time for temperature and humidity.\n",
    "\n",
    "Also save these results to file so we don't have to rerun them each time we restart this file (as it took a long time)."
   ]
  },
  {
   "cell_type": "code",
   "execution_count": 19,
   "metadata": {},
   "outputs": [],
   "source": [
    "def computeCoorelation(x,y,timeDelta=3):\n",
    "    '''\n",
    "    x is a pandas Series,\n",
    "    y is a pandas Series which is offset in time by the amount specified by timeDelta in days\n",
    "    \n",
    "    Exclude times when a nan is present in either x or y \n",
    "    \n",
    "    returns the correlation matrix between x and y\n",
    "    '''\n",
    "    index = []\n",
    "    xVals = []\n",
    "    yVals = []\n",
    "    for anIndex in x.index[:(-1*timeDelta-1)]:\n",
    "        xIndex = anIndex\n",
    "        yIndex = anIndex + datetime.timedelta(timeDelta)\n",
    "        try:\n",
    "            if np.isnan(x.loc[xIndex]) or np.isnan(y.loc[yIndex]):\n",
    "                continue\n",
    "        except:\n",
    "            continue\n",
    "        index.append(anIndex)\n",
    "        xVals.append(x.loc[xIndex])\n",
    "        yVals.append(y.loc[yIndex])\n",
    "    # evaluate the correlation\n",
    "    result = np.corrcoef(xVals,yVals)\n",
    "    return result\n",
    "        "
   ]
  },
  {
   "cell_type": "code",
   "execution_count": null,
   "metadata": {
    "scrolled": true
   },
   "outputs": [],
   "source": [
    "# Loop to compute the temperature and humidity correlation values for 1, 3, and 7 day offset periods for the various combinations of airports\n",
    "orderedAirportNames = list(top50AirportDataSet.index.values)\n",
    "temperatureCoor1Day = []\n",
    "temperatureCoor3Day = []\n",
    "temperatureCoor7Day = []\n",
    "humidityCoor1Day = []\n",
    "humidityCoor3Day = []\n",
    "humidityCoor7Day = []\n",
    "orderedPairs = []\n",
    "for index1,name1 in enumerate(orderedAirportNames):\n",
    "    if index1 == len(orderedAirportNames)-1:\n",
    "        break\n",
    "    for index2,name2 in enumerate(orderedAirportNames[index1+1:]):\n",
    "        xTemp = totalSet[index1]['data']['Temp. (°F) high']\n",
    "        yTemp = totalSet[index1+index2+1]['data']['Temp. (°F) high']\n",
    "        orderedPairs.append([orderedAirportNames[index1],orderedAirportNames[index1+index2+1]])\n",
    "        print(orderedPairs[-1])\n",
    "        temperatureCoor1Day.append(computeCoorelation(xTemp,yTemp,timeDelta=1)[0][1])\n",
    "        temperatureCoor3Day.append(computeCoorelation(xTemp,yTemp,timeDelta=3)[0][1])\n",
    "        temperatureCoor7Day.append(computeCoorelation(xTemp,yTemp,timeDelta=7)[0][1])\n",
    "        \n",
    "        xHum = totalSet[index1]['data']['Humidity (%) high']\n",
    "        yHum = totalSet[index1+index2+1]['data']['Humidity (%) high']\n",
    "        humidityCoor1Day.append(computeCoorelation(xHum,yHum,timeDelta=1)[0][1])\n",
    "        humidityCoor3Day.append(computeCoorelation(xHum,yHum,timeDelta=3)[0][1])\n",
    "        humidityCoor7Day.append(computeCoorelation(xHum,yHum,timeDelta=7)[0][1])\n",
    "        \n",
    "# write the coorelation results to a json file so we dont have to re-run them again (it took a long time).\n",
    "dictOut = {\"temperatureCoor1Day\":temperatureCoor1Day,\"temperatureCoor3Day\":temperatureCoor3Day,\n",
    "           \"temperatureCoor7Day\":temperatureCoor7Day,\"humidityCoor1Day\":humidityCoor1Day,\n",
    "          \"humidityCoor3Day\":humidityCoor3Day,\"humidityCoor7Day\":humidityCoor7Day,\"orderedPairs\":orderedPairs}\n",
    "dictFileOut = open('./coorResults.json','w+')\n",
    "json.dump(dictOut,dictFileOut)\n",
    "dictFileOut.close()"
   ]
  },
  {
   "cell_type": "code",
   "execution_count": 20,
   "metadata": {
    "collapsed": true
   },
   "outputs": [],
   "source": [
    "# load the correlation data from file (so we don't have to run above code everytime)\n",
    "dictOut = json.load(open('./coorResults.json','r'))"
   ]
  },
  {
   "cell_type": "markdown",
   "metadata": {},
   "source": [
    "## Compute the distance between the various pairs of airports\n",
    "\n",
    "Use geopy to compute the distance between pairs of coordinates"
   ]
  },
  {
   "cell_type": "code",
   "execution_count": 21,
   "metadata": {},
   "outputs": [],
   "source": [
    "# now compute the distance between all of the pairs we evaluated coorlations for using geopy\n",
    "from geopy.distance import great_circle\n",
    "pairDistance = []\n",
    "longitudeDelta = []\n",
    "for aPair in dictOut['orderedPairs']:\n",
    "    coord1 = (fullAirportDataSet.loc[aPair[0]]['latitude_deg'],fullAirportDataSet.loc[aPair[0]]['longitude_deg'])\n",
    "    coord2 = (fullAirportDataSet.loc[aPair[1]]['latitude_deg'],fullAirportDataSet.loc[aPair[1]]['longitude_deg'])\n",
    "    tempDistance = great_circle(coord1, coord2).miles\n",
    "    pairDistance.append(tempDistance)\n",
    "    longitudeDelta.append(fullAirportDataSet.loc[aPair[1]]['longitude_deg']-fullAirportDataSet.loc[aPair[0]]['longitude_deg'])"
   ]
  },
  {
   "cell_type": "code",
   "execution_count": 22,
   "metadata": {},
   "outputs": [],
   "source": [
    "def returnSortedIndex(arrayToSort):\n",
    "    return sorted(range(len(arrayToSort)), key=lambda k: arrayToSort[k])\n",
    "\n",
    "def getPlottableVectors(sortedIndexVect,coorVect,distVect,pairVect,longitudeDeltaVect):\n",
    "    sortedIndex = sortedIndexVect[::-1]\n",
    "    coorOut = []\n",
    "    distOut =[]\n",
    "    pairOut = []\n",
    "    longDelta = []\n",
    "    for aVal in sortedIndex:\n",
    "        coorOut.append(coorVect[aVal])\n",
    "        distOut.append(distVect[aVal])\n",
    "        pairOut.append(pairVect[aVal])\n",
    "        longDelta.append(longitudeDeltaVect[aVal])\n",
    "    return coorOut,distOut,pairOut,longDelta\n",
    "\n",
    "### sort each of the data set's indicies by increasing coorelation value\n",
    "sortedTemp1Day = getPlottableVectors(returnSortedIndex(dictOut['temperatureCoor1Day']),dictOut['temperatureCoor1Day'],pairDistance,dictOut['orderedPairs'],longitudeDelta)\n",
    "sortedTemp3Day = getPlottableVectors(returnSortedIndex(dictOut['temperatureCoor3Day']),dictOut['temperatureCoor3Day'],pairDistance,dictOut['orderedPairs'],longitudeDelta)\n",
    "sortedTemp7Day = getPlottableVectors(returnSortedIndex(dictOut['temperatureCoor7Day']),dictOut['temperatureCoor7Day'],pairDistance,dictOut['orderedPairs'],longitudeDelta)\n",
    "sortedHumidity1Day = getPlottableVectors(returnSortedIndex(dictOut['humidityCoor1Day']),dictOut['humidityCoor1Day'],pairDistance,dictOut['orderedPairs'],longitudeDelta)\n",
    "sortedHumidity3Day = getPlottableVectors(returnSortedIndex(dictOut['humidityCoor3Day']),dictOut['humidityCoor3Day'],pairDistance,dictOut['orderedPairs'],longitudeDelta)\n",
    "sortedHumidity7Day = getPlottableVectors(returnSortedIndex(dictOut['humidityCoor7Day']),dictOut['humidityCoor7Day'],pairDistance,dictOut['orderedPairs'],longitudeDelta)\n"
   ]
  },
  {
   "cell_type": "markdown",
   "metadata": {},
   "source": [
    "## Correlation strength vs distance for temperature\n",
    "\n",
    "This plot shows the correlation strength as a function of distance for high temperature for time offsets of 1, 3, and 7 days. It makes sense that The correlation strength is large for airports that are relatively close to eachother and for time close together. For longer time periods, we see weakening corrleations, but with larger distance. This makes sense because as weather fronts move (i.e. hot or cold fronts), the temperature of locations farther away will be correlated in temperature. To first order, this provides a measure of the average speed of fronts (correlation distance as a function of elapsed time)."
   ]
  },
  {
   "cell_type": "code",
   "execution_count": 23,
   "metadata": {},
   "outputs": [
    {
     "data": {
      "text/plain": [
       "Text(0,0.5,'Correlation strength')"
      ]
     },
     "execution_count": 23,
     "metadata": {},
     "output_type": "execute_result"
    },
    {
     "data": {
      "image/png": "[encoded data removed]",
      "text/plain": [
       "<matplotlib.figure.Figure at 0x11fafc550>"
      ]
     },
     "metadata": {},
     "output_type": "display_data"
    }
   ],
   "source": [
    "fig,ax = plt.subplots(figsize=(8,6))\n",
    "ax.scatter(sortedTemp1Day[1][:10],sortedTemp1Day[0][:10],label='High Temp: 1 day')\n",
    "ax.scatter(sortedTemp3Day[1][:10],sortedTemp3Day[0][:10],label='High Temp: 3 day')\n",
    "ax.scatter(sortedTemp7Day[1][:10],sortedTemp7Day[0][:10],label='High Temp: 7 day')\n",
    "ax.legend(loc=1)\n",
    "ax.set_xlabel('Distance Between Airports [miles]')\n",
    "ax.set_ylabel('Correlation strength')"
   ]
  },
  {
   "cell_type": "markdown",
   "metadata": {},
   "source": [
    "## Correlation strength vs distance for humidity\n",
    "\n",
    "This plot is similar to the one above. There is decreasing correlation with elapsed time and distance. The inturrpretation of this plot is consistent with the speed of moving fronts previously discussed. I expect the overall correlation to be weaker than the temperature because humidity may coorespond to rain storms. This is because rain is less predicatable than temperature. For example, when a cold/warm front moves through, one is very certian that all areas locally will expereince a temperature change. For a rainstorm front, it is not totally certian that everywhere will recieve rain, thus a weaker corrleation."
   ]
  },
  {
   "cell_type": "code",
   "execution_count": 24,
   "metadata": {},
   "outputs": [
    {
     "data": {
      "text/plain": [
       "Text(0,0.5,'Correlation strength')"
      ]
     },
     "execution_count": 24,
     "metadata": {},
     "output_type": "execute_result"
    },
    {
     "data": {
      "image/png": "[encoded data removed]",
      "text/plain": [
       "<matplotlib.figure.Figure at 0x122627e48>"
      ]
     },
     "metadata": {},
     "output_type": "display_data"
    }
   ],
   "source": [
    "fig2,ax2 = plt.subplots(figsize=(8,6))\n",
    "ax2.scatter(sortedHumidity1Day[1][:10],sortedHumidity1Day[0][:10],label='Humidity: 1 day')\n",
    "ax2.scatter(sortedHumidity3Day[1][:10],sortedHumidity3Day[0][:10],label='Humidity: 3 day')\n",
    "ax2.scatter(sortedHumidity7Day[1][:10],sortedHumidity7Day[0][:10],label='Humidity: 7 day')\n",
    "ax2.legend(loc=1)\n",
    "ax2.set_xlabel('Distance Between Airports [miles]')\n",
    "ax2.set_ylabel('Correlation strength')"
   ]
  },
  {
   "cell_type": "markdown",
   "metadata": {},
   "source": [
    "## Correlation strength vs longitudinal Coodinate $\\Delta$\n",
    "\n",
    "The plot shows that there is a bias for weather patterns to move in the west to east direction. This is consistent with usual weather patterns in the US and is driven by the direction that the jet stream is traveling. As expected, there is a strong corrleation for short time offsets and a weakening correlation as time passes."
   ]
  },
  {
   "cell_type": "code",
   "execution_count": 25,
   "metadata": {},
   "outputs": [
    {
     "data": {
      "text/plain": [
       "Text(0,0.5,'Correlation strength')"
      ]
     },
     "execution_count": 25,
     "metadata": {},
     "output_type": "execute_result"
    },
    {
     "data": {
      "image/png": "[encoded data removed]",
      "text/plain": [
       "<matplotlib.figure.Figure at 0x12259e7f0>"
      ]
     },
     "metadata": {},
     "output_type": "display_data"
    }
   ],
   "source": [
    "fig3,ax3 = plt.subplots(figsize=(8,6))\n",
    "ax3.scatter(sortedTemp1Day[3][:10],sortedTemp1Day[0][:10],label='High Temp: 1 day')\n",
    "ax3.scatter(sortedTemp3Day[3][:10],sortedTemp3Day[0][:10],label='High Temp: 3 day')\n",
    "ax3.scatter(sortedTemp7Day[3][:10],sortedTemp7Day[0][:10],label='High Temp: 7 day')\n",
    "ax3.legend(loc=1)\n",
    "ax3.set_xlabel('Longitudinal Coordinate $\\Delta$')\n",
    "ax3.set_ylabel('Correlation strength')"
   ]
  },
  {
   "cell_type": "markdown",
   "metadata": {},
   "source": [
    "## Correlation strength vs longitudinal Coodinate $\\Delta$, Humidity\n",
    "\n",
    "The correlation with humidity is quite different that with high temperature (previous plot). The correlations are weaker so it is difficult to come up with a strong argument."
   ]
  },
  {
   "cell_type": "code",
   "execution_count": 26,
   "metadata": {},
   "outputs": [
    {
     "data": {
      "text/plain": [
       "Text(0,0.5,'Correlation strength')"
      ]
     },
     "execution_count": 26,
     "metadata": {},
     "output_type": "execute_result"
    },
    {
     "data": {
      "image/png": "[encoded data removed]",
      "text/plain": [
       "<matplotlib.figure.Figure at 0x1221ef3c8>"
      ]
     },
     "metadata": {},
     "output_type": "display_data"
    }
   ],
   "source": [
    "fig4,ax4 = plt.subplots(figsize=(8,6))\n",
    "ax4.scatter(sortedHumidity1Day[3][:10],sortedHumidity1Day[0][:10],label='High Temp: 1 day')\n",
    "ax4.scatter(sortedHumidity3Day[3][:10],sortedHumidity3Day[0][:10],label='High Temp: 3 day')\n",
    "ax4.scatter(sortedHumidity7Day[3][:10],sortedHumidity7Day[0][:10],label='High Temp: 7 day')\n",
    "ax4.legend(loc=1)\n",
    "ax4.set_xlabel('Longitudinal Coordinate $\\Delta$')\n",
    "ax4.set_ylabel('Correlation strength')"
   ]
  },
  {
   "cell_type": "code",
   "execution_count": null,
   "metadata": {
    "collapsed": true
   },
   "outputs": [],
   "source": []
  }
 ],
 "metadata": {
  "kernelspec": {
   "display_name": "Python 3",
   "language": "python",
   "name": "python3"
  },
  "language_info": {
   "codemirror_mode": {
    "name": "ipython",
    "version": 3
   },
   "file_extension": ".py",
   "mimetype": "text/x-python",
   "name": "python",
   "nbconvert_exporter": "python",
   "pygments_lexer": "ipython3",
   "version": "3.6.3"
  }
 },
 "nbformat": 4,
 "nbformat_minor": 2
}
